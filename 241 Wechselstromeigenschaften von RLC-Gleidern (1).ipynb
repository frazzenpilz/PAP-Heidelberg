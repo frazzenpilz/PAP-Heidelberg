{
 "cells": [
  {
   "cell_type": "markdown",
   "metadata": {},
   "source": [
    "# Versuch 241: Wechselstromeigenschaften von RLC-Gliedern"
   ]
  },
  {
   "cell_type": "code",
   "execution_count": 1,
   "metadata": {
    "tags": []
   },
   "outputs": [],
   "source": [
    "#Benötigte Pakete\n",
    "%matplotlib inline\n",
    "import numpy as np\n",
    "from scipy.optimize import curve_fit\n",
    "import matplotlib.pyplot as plt\n",
    "import matplotlib\n",
    "matplotlib.rcParams.update({'font.size': 20})\n",
    "plt.rcParams[\"figure.figsize\"] = 16, 9"
   ]
  },
  {
   "cell_type": "markdown",
   "metadata": {},
   "source": [
    "## Teil 1: Bestimmung der Zeitkonstante eines RC-Glieds\n",
    "\n",
    "Die Zeitkonstante eines RC-Glieds ergibt sich aus den Kenngrößen der Bauteile gemäß (\\ref{eq:tau}):\n",
    "\n",
    "\\begin{align*}\n",
    "    \\tau_{theo} &= R \\cdot C\\\\\n",
    "    \\Rightarrow \\Delta \\tau_{theo} &= \\sqrt{\\left(\\frac{\\Delta R}{R}\\right)^2 - \\left(\\frac{\\Delta C}{C}\\right)^2}\n",
    "\\end{align*}\n",
    "\n",
    "Bestimmt man die Halbwertszeit der Spannung, folgt der experimentell bestimmte Wert gemäß (\\ref{eq:hwz}):\n",
    "\n",
    "\n",
    "\\begin{align*}\n",
    "    \\tau_{exp} &= \\frac{T_{12}}{\\ln{2}}\\\\\n",
    "    \\Rightarrow \\Delta \\tau_{exp} &= \\frac{\\Delta T_{12}}{\\ln{2}}\n",
    "\\end{align*}\n",
    "\n",
    "Für die Widerstände $R$ und Capazitäten $C$, haben wir die relativen Fehler:\n",
    "\n",
    "\\begin{align*}\n",
    "    \\Delta R &= 0.05 R\\\\\n",
    "    \\Delta C &= 0.10 R\n",
    "\\end{align*}"
   ]
  },
  {
   "cell_type": "code",
   "execution_count": 2,
   "metadata": {
    "tags": []
   },
   "outputs": [],
   "source": [
    "#Bestimmung der Halbwertszeit bei der Spannungsmessung\n",
    "\n",
    "#erste Messreihe\n",
    "C1=470e-9 #Farad\n",
    "C1_err=0.1*C1 \n",
    "\n",
    "R1=1e3 #Ohm\n",
    "R1_err=0.05*R1\n",
    "\n",
    "#es wurde zur Erhöhung der Genauigkeit die Zeit für 3x T_hw gemessen.\n",
    "T_hw1=270e-6 #s\n",
    "T_hw1_err=20e-6 #s\n",
    "\n",
    "#zweite Messreihe\n",
    "C2=4.7e-9 \n",
    "C2_err=0.1*C2\n",
    "\n",
    "R2=10e3\n",
    "R2_err=0.05*R2\n",
    "\n",
    "T_hw2=38.0e-6\n",
    "T_hw2_err=0.5e-6\n",
    "\n",
    "#dritte Messreihe\n",
    "C3=47e-9\n",
    "C3_err=0.1*C3\n",
    "\n",
    "R3=R1\n",
    "R3_err=R1_err\n",
    "\n",
    "T_hw3=33.4e-6\n",
    "T_hw3_err=T_hw2_err\n",
    "\n",
    "#Halbwertszeit beim Stromverlauf\n",
    "C4=47e-9\n",
    "C4_err=0.1*C4\n",
    "\n",
    "R4=R1\n",
    "R4_err=R1_err\n",
    "\n",
    "T_hw4=27.1e-6\n",
    "T_hw4_err=T_hw2_err"
   ]
  },
  {
   "cell_type": "code",
   "execution_count": 3,
   "metadata": {
    "collapsed": false,
    "jupyter": {
     "outputs_hidden": false
    }
   },
   "outputs": [
    {
     "name": "stdout",
     "output_type": "stream",
     "text": [
      "Für die theoretischen Werte wurde ermittelt:\n",
      "tau_theo1 = 0.00047 ± 5.254759747124506e-05\n",
      "tau_theo2 = 4.7e-05 ± 5.254759747124505e-06\n",
      "tau_theo3 = 4.7e-05 ± 5.254759747124505e-06\n"
     ]
    }
   ],
   "source": [
    "#Theoretische Werte für Tau=R*C\n",
    "\n",
    "tau_theo1= R1*C1 \n",
    "#Fehler aus Fehlerfortpflanzung\n",
    "tau_theo1_err=np.sqrt((C1*R1_err)**2+(R1*C1_err)**2)\n",
    "\n",
    "tau_theo2= R2*C2 \n",
    "tau_theo2_err=np.sqrt((C2*R2_err)**2+(R2*C2_err)**2)\n",
    "\n",
    "tau_theo3= R3*C3 \n",
    "tau_theo3_err=np.sqrt((C3*R3_err)**2+(R3*C3_err)**2)\n",
    "\n",
    "print('Für die theoretischen Werte wurde ermittelt:')\n",
    "print('tau_theo1 = ' + str(tau_theo1) + ' ± ' + str(tau_theo1_err))\n",
    "print('tau_theo2 = ' + str(tau_theo2) + ' ± ' + str(tau_theo2_err))\n",
    "print('tau_theo3 = ' + str(tau_theo3) + ' ± ' + str(tau_theo3_err))"
   ]
  },
  {
   "cell_type": "code",
   "execution_count": 4,
   "metadata": {
    "collapsed": false,
    "jupyter": {
     "outputs_hidden": false
    }
   },
   "outputs": [
    {
     "name": "stdout",
     "output_type": "stream",
     "text": [
      "Für die experimentellen Werte wurde ermittelt:\n",
      "tau_exp1 = 0.0003895276610400201 ± 2.885390081777927e-05\n",
      "tau_exp2 = 5.4822411553780616e-05 ± 7.213475204444817e-07\n",
      "tau_exp3 = 4.818601436569138e-05 ± 7.213475204444817e-07\n",
      "\n",
      "Aus der Strommessung ergeben sich die folgenden Werte:\n",
      "tau_theo_I = 4.7e-05 ± 5.254759747124505e-06\n",
      "tau_exp_I = 3.9097035608090914e-05 ± 7.213475204444817e-07\n",
      "\n",
      "Für die Differenz Theorie-Experiment bei der Strommessung folgt somit:\n",
      "∆(tau4) = 7.902964391909084e-06 ± 5.304040181338316e-06 => Sigma= 1.4899895403724122\n"
     ]
    }
   ],
   "source": [
    "#Experimentelle Werte für Tau=T_hw/ln(2) \n",
    "\n",
    "tau_exp1=T_hw1/np.log(2)\n",
    "#Fehler aus Fehlerfortpflanzung\n",
    "tau_exp1_err=T_hw1_err/np.log(2)\n",
    "\n",
    "tau_exp2=T_hw2/np.log(2)\n",
    "tau_exp2_err=T_hw2_err/np.log(2)\n",
    "\n",
    "tau_exp3=T_hw3/np.log(2)\n",
    "tau_exp3_err=T_hw3_err/np.log(2)\n",
    "\n",
    "print('Für die experimentellen Werte wurde ermittelt:')\n",
    "print('tau_exp1 = ' + str(tau_exp1) + ' ± ' + str(tau_exp1_err))\n",
    "print('tau_exp2 = ' + str(tau_exp2) + ' ± ' + str(tau_exp2_err))\n",
    "print('tau_exp3 = ' + str(tau_exp3) + ' ± ' + str(tau_exp3_err))\n",
    "print()\n",
    "\n",
    "#Zum Vergleich: Werte aus der Strommessung\n",
    "tau_theo4=R4*C4\n",
    "tau_theo4_err=np.sqrt((C4*R4_err)**2+(R4*C4_err)**2)\n",
    "\n",
    "tau_exp4=T_hw4/np.log(2)\n",
    "tau_exp4_err=T_hw4_err/np.log(2)\n",
    "\n",
    "print('Aus der Strommessung ergeben sich die folgenden Werte:')\n",
    "print('tau_theo_I = ' + str(tau_theo4) + ' ± ' + str(tau_theo4_err))\n",
    "print('tau_exp_I = ' + str(tau_exp4) + ' ± ' + str(tau_exp4_err))\n",
    "print()\n",
    "\n",
    "diff_tau4=np.abs(tau_theo4-tau_exp4)\n",
    "diff_tau4_err=np.sqrt((tau_theo4_err)**2+(tau_exp4_err)**2)\n",
    "\n",
    "print('Für die Differenz Theorie-Experiment bei der Strommessung folgt somit:')\n",
    "print('∆(tau4) = ' + str(diff_tau4) + ' ± ' + str(diff_tau4_err)+' => Sigma= '+str(diff_tau4/diff_tau4_err))"
   ]
  },
  {
   "cell_type": "markdown",
   "metadata": {},
   "source": [
    "|    $C$ [Hz]    \t| $R$ [k$\\Omega$] \t| f [Hz] \t|  $\\tau_{theo}$ [$\\mu$s]  \t| $\\tau_{exp}$ [$\\mu$s]  \t|\n",
    "|:--------------:\t|-----------------\t|--------\t|:--------------:       \t|:------------:         \t|\n",
    "| 470 $\\pm$ 47   \t| 1.00 $\\pm$ 0.05 \t| 500   \t| 470 $\\pm$ 53          \t| 390 $\\pm$ 29          \t|\n",
    "| 4.7 $\\pm$ 0.47 \t| 10.0 $\\pm$ 0.5  \t| 500   \t| 47.0 $\\pm$ 5.3        \t| 54.9 $\\pm$ 0.7        \t|\n",
    "|  47 $\\pm$ 4.7  \t| 1.00 $\\pm$ 0.05 \t| 500   \t| 47.0 $\\pm$ 5.3        \t| 48.2 $\\pm$ 0.7        \t|\n",
    "|  47 $\\pm$ 4.7  \t| 1.00 $\\pm$ 0.05 \t| 500   \t| 47.0 $\\pm$ 5.3        \t| 39.1 $\\pm$ 0.7        \t|"
   ]
  },
  {
   "cell_type": "code",
   "execution_count": 5,
   "metadata": {
    "collapsed": false,
    "jupyter": {
     "outputs_hidden": false
    }
   },
   "outputs": [
    {
     "name": "stdout",
     "output_type": "stream",
     "text": [
      "Der Vergleich der theoretischen und experimentellen Werte liefert:\n",
      "∆(tau1) = 8.047233895997987e-05 ± 5.9948290988169496e-05 \n",
      "=> Sigma= 1.3423625199901144\n",
      "∆(tau2) = 7.822411553780619e-06 ± 5.304040181338316e-06 \n",
      "=> Sigma= 1.4748024687488068\n",
      "∆(tau3) = 1.186014365691381e-06 ± 5.304040181338316e-06 \n",
      "=> Sigma= 0.22360584104627307\n",
      "\n",
      "Für die Differenz Theorie-Experiment bei der Strommessung folgt somit:\n",
      "∆(tau4) = 7.902964391909084e-06 ± 5.304040181338316e-06 \n",
      "=> Sigma= 1.4899895403724122\n"
     ]
    }
   ],
   "source": [
    "#Vergleich der experimentellen und theoretischen Werte \n",
    "diff_tau1=np.abs(tau_theo1-tau_exp1)\n",
    "diff_tau1_err=np.sqrt((tau_theo1_err)**2+(tau_exp1_err)**2)\n",
    "\n",
    "diff_tau2=np.abs(tau_theo2-tau_exp2)\n",
    "diff_tau2_err=np.sqrt((tau_theo2_err)**2+(tau_exp2_err)**2)\n",
    "\n",
    "diff_tau3=np.abs(tau_theo3-tau_exp3)\n",
    "diff_tau3_err=np.sqrt((tau_theo3_err)**2+(tau_exp3_err)**2)\n",
    "\n",
    "print('Der Vergleich der theoretischen und experimentellen Werte liefert:')\n",
    "print('∆(tau1) = ' + str(diff_tau1) + ' ± ' + str(diff_tau1_err)+' \\n=> Sigma= '+str(diff_tau1/diff_tau1_err))\n",
    "print('∆(tau2) = ' + str(diff_tau2) + ' ± ' + str(diff_tau2_err)+' \\n=> Sigma= '+str(diff_tau2/diff_tau2_err))\n",
    "print('∆(tau3) = ' + str(diff_tau3) + ' ± ' + str(diff_tau3_err)+' \\n=> Sigma= '+str(diff_tau3/diff_tau3_err))\n",
    "print()\n",
    "\n",
    "diff_tau4=np.abs(tau_theo4-tau_exp4)\n",
    "diff_tau4_err=np.sqrt((tau_theo4_err)**2+(tau_exp4_err)**2)\n",
    "\n",
    "print('Für die Differenz Theorie-Experiment bei der Strommessung folgt somit:')\n",
    "print('∆(tau4) = ' + str(diff_tau4) + ' ± ' + str(diff_tau4_err)+' \\n=> Sigma= '+str(diff_tau4/diff_tau4_err))"
   ]
  },
  {
   "cell_type": "markdown",
   "metadata": {},
   "source": [
    "| $\\tau_{theo}$ [$\\mu$s]  \t| $\\tau_{exp}$ [$\\mu$s] \t| $\\sigma$-Abweichung \t|\n",
    "|----------------       \t|--------------\t            |---------------------\t|\n",
    "| 470 $\\pm$ 53           \t| 390 $\\pm$ 29          \t| 1.34                \t|\n",
    "| 47.0 $\\pm$ 5.3        \t| 54.9 $\\pm$ 0.7        \t| 1.48                \t|\n",
    "| 47.0 $\\pm$ 5.3        \t| 48.2 $\\pm$ 0.7        \t| 0.22                \t|\n",
    "| 47.0 $\\pm$ 5.3         \t| 39.1 $\\pm$ 0.7        \t| 1.49                \t|"
   ]
  },
  {
   "cell_type": "markdown",
   "metadata": {},
   "source": [
    "## Teil 2: RC-Glied als Integrator und Differentiator"
   ]
  },
  {
   "cell_type": "markdown",
   "metadata": {},
   "source": [
    "Dieser Aufgabenteil wird direkt anhand der während des Versuchs erstellten Diagramme diskutiert und im Protokollheft aufgeschrieben."
   ]
  },
  {
   "cell_type": "markdown",
   "metadata": {},
   "source": [
    "## Teil 3: Frequenz- und Phasengang eines RC-Glieds"
   ]
  },
  {
   "cell_type": "code",
   "execution_count": 6,
   "metadata": {},
   "outputs": [],
   "source": [
    "#Bestimmung der Grenzfrequenzen am Circuit Analyzer\n",
    "\n",
    "#Tiefpass\n",
    "freq_grenz_tp=3.25*1e3 #Hz\n",
    "freq_grenz_tp_err=0.20*1e3\n",
    "\n",
    "#Hochpass\n",
    "freq_grenz_hp=3.25*1e3\n",
    "freq_grenz_hp_err=freq_grenz_tp_err"
   ]
  },
  {
   "cell_type": "markdown",
   "metadata": {},
   "source": [
    "### Phasengang am Hochpassfilter"
   ]
  },
  {
   "cell_type": "code",
   "execution_count": 8,
   "metadata": {},
   "outputs": [
    {
     "data": {
      "image/png": "[encoded data removed]",
      "text/plain": [
       "<Figure size 1152x648 with 1 Axes>"
      ]
     },
     "metadata": {
      "needs_background": "light"
     },
     "output_type": "display_data"
    },
    {
     "name": "stdout",
     "output_type": "stream",
     "text": [
      "tau = 286.8054421242183  ±  7.208922438113834  [µs]\n",
      "\n",
      "f_g = 3.4866841876971435  ±  0.0876940328237622  [kHz]\n",
      "\n",
      "Chi-Quadrat = 0.22676348225393841\n",
      "Freiheitsgrade = 9\n",
      "Chi-Quadrat reduziert = 0.025195942472659823\n",
      "Wahrscheinlichkeit ein größeres oder gleiches Chi-Quadrat zu erhalten = 100.0 %\n"
     ]
    }
   ],
   "source": [
    "f = np.array([1,2,3,4,5,6,7,8,9,10])*1e3\n",
    "fehler_f = f*2e-2\n",
    "\n",
    "t = np.array([210.00,83.00,44.00,28.00,21.00,13.00,11.00,8.00,6.00,5.00])*1e-6\n",
    "fehler_t = np.array([40.0,30.0,20.0,10.0,5.0,5.0,4.0,3.0,3.0,3.0])*1e-6\n",
    "\n",
    "phi = t*f*360\n",
    "fehler_phi = np.sqrt((fehler_t/t)**2+(fehler_f/f**2))*phi\n",
    "                    \n",
    "#Fitfunktion\n",
    "from scipy import odr\n",
    "\n",
    "def fit_func(p, x):\n",
    "    (rc) = p\n",
    "    return np.arctan(1/(x*rc))*180/np.pi\n",
    "\n",
    "model = odr.Model(fit_func)\n",
    "\n",
    "#darzustellende Daten\n",
    "x = f\n",
    "y = phi\n",
    "delta_x = fehler_f\n",
    "delta_y = fehler_phi\n",
    "\n",
    "#Startparameter\n",
    "para0 = [1.0]\n",
    "\n",
    "data = odr.RealData(x, y, sx=delta_x, sy=delta_y)\n",
    "odr = odr.ODR(data, model, beta0=para0 )\n",
    "out = odr.run()\n",
    "\n",
    "#1-Sigma\n",
    "popt = out.beta\n",
    "perr = out.sd_beta\n",
    "\n",
    "#Sigma-Umgebung\n",
    "nstd = 16 # um n-Sigma-Umgebung zu zeichnen\n",
    "popt_top = popt+nstd*perr\n",
    "popt_bot = popt-nstd*perr\n",
    "\n",
    "#Plot-Umgebung\n",
    "x_fit = np.logspace(np.log10(min(x))-0.1, np.log10(max(x))+0.1, 1000)\n",
    "fit = fit_func(popt, x_fit)\n",
    "fit_top = fit_func(popt_top, x_fit)\n",
    "fit_bot = fit_func(popt_bot, x_fit)\n",
    "\n",
    "#Plot\n",
    "fig, ax = plt.subplots(1)\n",
    "plt.errorbar(x, y, yerr=delta_y, xerr=delta_x, lw=1, ecolor='k', fmt='o', capsize=3, label='Messdaten')\n",
    "plt.title('Diagramm 1: Phasenverlauf ')\n",
    "plt.grid(True)\n",
    "plt.xscale('log')\n",
    "plt.xticks( [1000,2000,3000,4000,5000,6000,7000,8000,9000,10000],\n",
    "            [1,2,3,4,5,6,7,8,9,10])\n",
    "plt.xlabel('Frequenz '+r'${f}$'+' '+r'${[kHz]}$')\n",
    "plt.ylabel('Phasenverschiebung '+r'${\\phi}$' + ' '+r'${[°]}$')\n",
    "plt.plot(x_fit, fit, c='darkred',ls='--', lw=1, label='Fit')\n",
    "plt.legend(loc='best')\n",
    "plt.show()\n",
    "\n",
    "#Chi-Quadrat orthogonal\n",
    "from scipy.stats import chi2\n",
    "\n",
    "dof = x.size-popt.size\n",
    "chisquare = np.sum(((fit_func(popt, x)-y)**2)/(delta_y**2+((fit_func(popt, x+delta_x)-\n",
    "                                                            fit_func(popt, x-delta_x))/2)**2))\n",
    "chisquare_red = chisquare/dof\n",
    "prob = round(1-chi2.cdf(chisquare,dof),2)*100\n",
    "                    \n",
    "#Grenzfrequenz\n",
    "def fit_func_rev(x, p):\n",
    "    (rc) = p\n",
    "    return 1/(np.tan(x*np.pi/180)*rc)\n",
    "\n",
    "phi_g = 45\n",
    "f_g = fit_func_rev(phi_g, popt)\n",
    "fehler_f_g = abs(fit_func_rev(phi_g, popt+perr)-fit_func_rev(phi_g, popt-perr))/2\n",
    "\n",
    "\n",
    "print('tau =', popt[0]*1e6, ' ± ', perr[0]*1e6 , ' [µs]')\n",
    "print()                    \n",
    "print('f_g =', f_g[0]*1e-3, ' ± ', fehler_f_g[0]*1e-3 , ' [kHz]')\n",
    "print()\n",
    "print('Chi-Quadrat =', chisquare)\n",
    "print('Freiheitsgrade =', dof)\n",
    "print('Chi-Quadrat reduziert =', chisquare_red)\n",
    "print('Wahrscheinlichkeit ein größeres oder gleiches Chi-Quadrat zu erhalten =', prob, '%')"
   ]
  },
  {
   "cell_type": "code",
   "execution_count": 9,
   "metadata": {
    "collapsed": false,
    "jupyter": {
     "outputs_hidden": false
    }
   },
   "outputs": [
    {
     "name": "stdout",
     "output_type": "stream",
     "text": [
      "Aus dem Fit ergibt sich die folgende Grenzfrequenz:\n",
      "f_g = 3.4866841876971435  ±  0.0876940328237622  [kHz]\n",
      "\n",
      "Für die Differenz Fit-Experiment folgt somit:\n",
      "∆(freq_g) = 236.68418769714344 ± 218.3809593185612 \n",
      "=> Sigma= 1.0838132978062551\n"
     ]
    }
   ],
   "source": [
    "#Vergleich der gemessenen Grenzfrequenz mit dem optimalen Fit-Parameter\n",
    "print('Aus dem Fit ergibt sich die folgende Grenzfrequenz:')\n",
    "print('f_g =', f_g[0]*1e-3, ' ± ', fehler_f_g[0]*1e-3 , ' [kHz]')\n",
    "print()\n",
    "\n",
    "diff_freq_g=np.abs(f_g[0]-freq_grenz_hp)\n",
    "diff_freq_g_err=np.sqrt((fehler_f_g[0])**2+(freq_grenz_hp_err)**2)\n",
    "\n",
    "print('Für die Differenz Fit-Experiment folgt somit:')\n",
    "print('∆(freq_g) = '+str(diff_freq_g)+' ± '+str(diff_freq_g_err)+' \\n=> Sigma= '+str(diff_freq_g/diff_freq_g_err))"
   ]
  },
  {
   "cell_type": "markdown",
   "metadata": {},
   "source": [
    "\\begin{align*}\n",
    "    f_{gr}^{mes} &= 3.25 \\pm 0.02 \\ \\text{[kHz]}\\\\\n",
    "    f_{gr}^{fit} &= 3.49 \\pm 0.09 \\ \\text{[kHz]}\\\\\n",
    "    & \\Rightarrow 1.08 \\sigma\n",
    "\\end{align*}"
   ]
  },
  {
   "cell_type": "code",
   "execution_count": 10,
   "metadata": {
    "collapsed": false,
    "jupyter": {
     "outputs_hidden": false
    }
   },
   "outputs": [
    {
     "name": "stdout",
     "output_type": "stream",
     "text": [
      "Aus R und C folgt die f_g_theo mit:\n",
      "f_g_theo = 3.3862753849339438  ±  0.37859709756232834  [kHz]\n",
      "\n",
      "Für die Differenz Theorie-Experiment folgt somit für den Hoch- und Tiefpass:\n",
      "Sigma= 0.3182686215248944\n"
     ]
    }
   ],
   "source": [
    "#Vergleich der gemessen Grenzfrequenzen mit den Theoriewerten\n",
    "freq_g_theo=1/(2*np.pi*R1*C3)\n",
    "freq_g_theo_err=freq_g_theo*((R1_err/R1)**2+(C3_err/C3)**2)**0.5\n",
    "\n",
    "diff_freq_g_hp=np.abs(freq_g_theo-freq_grenz_hp)\n",
    "diff_freq_g_hp_err=np.sqrt((freq_g_theo_err)**2+(freq_grenz_hp_err)**2)\n",
    "\n",
    "diff_freq_g_tp=np.abs(freq_g_theo-freq_grenz_tp)\n",
    "diff_freq_g_tp_err=np.sqrt((freq_g_theo_err)**2+(freq_grenz_tp_err)**2)\n",
    "\n",
    "print('Aus R und C folgt die f_g_theo mit:')\n",
    "print('f_g_theo =', freq_g_theo*1e-3 , ' ± ', freq_g_theo_err*1e-3, ' [kHz]')\n",
    "print()\n",
    "\n",
    "print('Für die Differenz Theorie-Experiment folgt somit für den Hoch- und Tiefpass:')\n",
    "print('Sigma= '+str(diff_freq_g_hp/diff_freq_g_hp_err))"
   ]
  },
  {
   "cell_type": "markdown",
   "metadata": {},
   "source": [
    "\\begin{align*}\n",
    "    f_{gr}^{theo} &= 3.39 \\pm 0.38 \\ \\text{[kHz]}\\\\\n",
    "    f_{gr}^{mes} &= 3.25 \\pm 0.02 \\ \\text{[kHz]}\\\\\n",
    "    & \\Rightarrow 0.32 \\sigma\n",
    "\\end{align*}"
   ]
  },
  {
   "cell_type": "markdown",
   "metadata": {},
   "source": [
    "## Teil 4: Frequenzgang eines Serienschwingkreises"
   ]
  },
  {
   "cell_type": "markdown",
   "metadata": {},
   "source": [
    "### Bestimmung der Induktivität $L_1$"
   ]
  },
  {
   "cell_type": "code",
   "execution_count": 11,
   "metadata": {
    "collapsed": false,
    "jupyter": {
     "outputs_hidden": false
    }
   },
   "outputs": [
    {
     "name": "stdout",
     "output_type": "stream",
     "text": [
      "Die Grenzfrequenz wurde bestimmt auf:\n",
      "24.420646893904657 ± 0.6549761542457588 [kHz]\n"
     ]
    }
   ],
   "source": [
    "omega_res=2*np.pi*np.array([3.82e3,3.84e3,4.00e3])\n",
    "omega_res_err=2*np.pi*np.array([0.1e3,0.1e3,0.1e3])\n",
    "\n",
    "omega_res_mean=np.mean(omega_res)\n",
    "omega_res_mean_err=1/3*np.sum(omega_res_err**2)**0.5\n",
    "omega_res_mean_std=np.std(omega_res)/np.sqrt(len(omega_res))\n",
    "\n",
    "print('Die Grenzfrequenz wurde bestimmt auf:')\n",
    "print(str(omega_res_mean*1e-3) + ' ± ' + str((omega_res_mean_err+omega_res_mean_std)*1e-3) + ' [kHz]')"
   ]
  },
  {
   "cell_type": "markdown",
   "metadata": {},
   "source": [
    "Wir wissen:\n",
    "\\begin{align*}\n",
    "    \\omega_{R} &= \\sqrt{\\frac{1}{LC}} = 2\\pi f_R \\\\\n",
    "    \\Rightarrow L &= \\frac{1}{C} \\frac{1}{(2\\pi f_R)^2}\\\\\n",
    "    \\Delta L &= \\sqrt{\\left(\\frac{1}{4 \\pi^{2} f_{R}^{2} C^{2}} \\Delta C\\right)^{2}+\\left(\\frac{2}{4 \\pi^{2} C f_{R}^{3}} \\Delta f_{R}\\right)^{2}}\n",
    "\\end{align*}\n",
    "\n"
   ]
  },
  {
   "cell_type": "code",
   "execution_count": 12,
   "metadata": {
    "collapsed": false,
    "jupyter": {
     "outputs_hidden": false
    }
   },
   "outputs": [
    {
     "name": "stdout",
     "output_type": "stream",
     "text": [
      "Aus der ermittelten Grenzfrequenz folgt für die Induktivität:\n",
      "L1 = 35.67695773946664 ± 4.575634095470602 mH\n"
     ]
    }
   ],
   "source": [
    "L1=1/(omega_res_mean**2*C3)\n",
    "L1_err=L1*np.sqrt((2*omega_res_mean_err/omega_res_mean)**2+(C3_err/C3)**2)\n",
    "L1_std=L1*np.sqrt((2*omega_res_mean_std/omega_res_mean)**2)\n",
    "\n",
    "print('Aus der ermittelten Grenzfrequenz folgt für die Induktivität:')\n",
    "print('L1 = ' + str(L1*1e3) + ' ± ' + str((L1_err+L1_std)*1e3) + ' mH')"
   ]
  },
  {
   "cell_type": "markdown",
   "metadata": {},
   "source": [
    "Somit folgt für die Induktivität $L_1$:\n",
    "\n",
    "\\begin{align}\n",
    "    L_1 = 35.7 \\pm 4.6 \\ \\text{[mH]}\n",
    "\\end{align}"
   ]
  },
  {
   "cell_type": "markdown",
   "metadata": {},
   "source": [
    "### Bestimmung des Verlustwiederstandes $R_V$\n",
    "\n",
    "In einem realen Schwingkreis treten zusätzlich Verluste auf. Der Gesamtwiederstand setzt sich aus diesen Verlustwiederstand $R_V$ und eben den der drei Standartbauteile $R$ zusammen. $R_{ges} = R + R_V$.\n",
    "Für die Peakbreite gilt: \n",
    "\n",
    "\\begin{align*}\n",
    "    \\Delta \\omega &= 2\\pi \\Delta f_R = \\frac{R_{ges}}{L}\\\\\n",
    "    \\Rightarrow R_{ges} &= 2\\pi \\Delta f_R \\cdot L \\\\\n",
    "    \\Delta R_{ges} &= \\sqrt{(2\\pi \\Delta (\\Delta f_R) L)^2 + (2\\pi \\Delta f_R \\Delta L)^2}\n",
    "\\end{align*}"
   ]
  },
  {
   "cell_type": "code",
   "execution_count": 43,
   "metadata": {
    "collapsed": false,
    "jupyter": {
     "outputs_hidden": false
    }
   },
   "outputs": [
    {
     "name": "stdout",
     "output_type": "stream",
     "text": [
      "Für den Gesamtwiderstand ergibt sich R + Rv:\n",
      "R_ges_1000 = 1120.824683367419 ± 78.87964013298345 [Ohm]\n",
      "R_ges_220 = 290.2935929921615 ± 28.15606263553695 [Ohm]\n",
      "R_ges_47 = 149.96634263456065 ± 22.943952710368308 [Ohm]\n",
      "\n",
      "Daraus folgt für den jew. Verlustwiderstand Rv:\n",
      "Rv_1000 = 120.82468336741908 ± 61.008176726640286 [Ohm]\n",
      "Rv_220 = 70.2935929921615 ± 25.918407804806993 [Ohm]\n",
      "Rv_47 = 102.96634263456065 ± 22.82328779943015 [Ohm]\n"
     ]
    }
   ],
   "source": [
    "# delta_omega=2*np.pi*np.array([5.35e3,1.37e3,0.64e3]) Altprotokoll\n",
    "# delta_omega=2*np.pi*np.array([4.8e3,0.65e3,0.60e3]) Messprotokoll Aaron Leo\n",
    "delta_omega=2*np.pi*np.array([5e3,1.295e3,0.669e3]) # [Hz] Selber nochmal nachgemessen anhand der Bilder. \n",
    "delta_omega_err=2*np.pi*np.array([0.1e3,0.1e3,0.1e3]) #[Hz]\n",
    "R=np.array([1000,220,47])\n",
    "R_err=0.05*R\n",
    "\n",
    "R_v=delta_omega*L1-R\n",
    "R_v_err=np.sqrt((delta_omega_err*L1)**2+(delta_omega*L1_std)**2+(R_err)**2)\n",
    "\n",
    "R_ges=R+R_v\n",
    "R_ges_err=np.sqrt(R_err**2+R_v_err**2)\n",
    "\n",
    "print('Für den Gesamtwiderstand ergibt sich R + Rv:')#Daraus folgt für den jew. Gesamtwiderstand R + Rv:\n",
    "for i in range(0,3):\n",
    "    print('R_ges_%d = '%(R[i]) + str(R_ges[i]) + ' ± ' + str(R_ges_err[i]) + ' [Ohm]')\n",
    "print()\n",
    "print('Daraus folgt für den jew. Verlustwiderstand Rv:')\n",
    "for i in range(0,3):\n",
    "    print('Rv_%d = '%(R[i]) + str(R_v[i]) + ' ± ' + str(R_v_err[i]) + ' [Ohm]')\n",
    "\n"
   ]
  },
  {
   "cell_type": "markdown",
   "metadata": {},
   "source": [
    "Verlustwiderstand $R_V$ aus Bandbreite $\\Delta \\omega$ der Resonanzkurven:\n",
    "\n",
    "| $R$ [$\\Omega$] \t| $R_{ges}$ [$\\Omega$] \t| $R_{V}$ [$\\Omega$] \t|\n",
    "|----------------\t|----------------------\t|--------------------\t|\n",
    "| 1000           \t| 1120 $\\pm$ 76        \t| 120 $\\pm$ 57       \t|\n",
    "| 220            \t| 290 $\\pm$ 17         \t| 70  $\\pm$ 13        \t|\n",
    "| 47             \t| 149 $\\pm$ 5          \t| 103 $\\pm$ 5        \t|"
   ]
  },
  {
   "cell_type": "markdown",
   "metadata": {},
   "source": [
    "### Zusatzaufgabe für Physiker: Verlustwiderstand aus Spannungsmessung"
   ]
  },
  {
   "cell_type": "markdown",
   "metadata": {},
   "source": [
    "Es soll nun der Verlustwiderstand $R_{V}$ aus der Spannungsmessung bestimmt werden. \n",
    "\\begin{align}\n",
    "    U_A &= \\frac{R}{R+Rv} U_E\\\\\n",
    "    \\Rightarrow R_V &= \\left(\\frac{U_E}{U_A} -1 \\right) R\n",
    "\\end{align}"
   ]
  },
  {
   "cell_type": "code",
   "execution_count": 44,
   "metadata": {
    "collapsed": false,
    "jupyter": {
     "outputs_hidden": false
    }
   },
   "outputs": [
    {
     "name": "stdout",
     "output_type": "stream",
     "text": [
      "Für den Gesamtwiderstand folgt somit:\n",
      "R_ges_1000 = 1041.6666666666667 ± 63.229788746253405 [Ohm]\n",
      "R_ges_220 = 289.47368421052636 ± 17.238083144624685 [Ohm]\n",
      "R_ges_47 = 127.02702702702702 ± 11.578735937078926 [Ohm]\n",
      "\n",
      "Aus der Spannungsmessung folgt für den Verlustwiderstand: \n",
      "R_v_1000 = 41.66666666666674 ± 38.70408486059105 [Ohm]\n",
      "R_v_220 = 69.47368421052633 ± 13.272208199881197 [Ohm]\n",
      "R_v_47 = 80.02702702702702 ± 11.33775224198355 [Ohm]\n"
     ]
    }
   ],
   "source": [
    "U_E=np.ones(3)\n",
    "U_E_err=0.02*np.ones(3)\n",
    "\n",
    "U_A=np.array([0.96,0.76,0.37])\n",
    "U_A_err=0.03*np.ones(3)\n",
    "\n",
    "R_v2=R*(U_E/U_A-1)\n",
    "R_v2_err=np.sqrt((R_err*(U_E/U_A-1))**2+(R*U_E_err/U_A)**2+(R*U_E*U_A_err/U_A**2)**2)\n",
    "\n",
    "R_ges2=R+R_v2\n",
    "R_ges2_err=np.sqrt(R_err**2+R_v2_err**2)\n",
    "\n",
    "\n",
    "print('Für den Gesamtwiderstand folgt somit:')\n",
    "for i in range(0,3):\n",
    "    print('R_ges_%d = '%(R[i]) + str(R_ges2[i]) + ' ± ' + str(R_ges2_err[i]) + ' [Ohm]')\n",
    "\n",
    "print()\n",
    "print('Aus der Spannungsmessung folgt für den Verlustwiderstand: ')\n",
    "for i in range(0,3):\n",
    "    print('R_v_%d = '%(R[i]) + str(R_v2[i]) + ' ± ' + str(R_v2_err[i]) + ' [Ohm]')\n"
   ]
  },
  {
   "cell_type": "markdown",
   "metadata": {},
   "source": [
    "Verlustwiderstand $R_V$ aus Maximalspannung $U_A^{max}$ der Resonanzkurven:\n",
    "\n",
    "| $R$ [$\\Omega$] \t| $R_{ges}$ [$\\Omega$] \t| $R_{V}$ [$\\Omega$] \t|\n",
    "|----------------\t|----------------------\t|--------------------\t|\n",
    "| 1000           \t| 1041 $\\pm$ 63        \t| 41 $\\pm$ 39        \t|\n",
    "| 220            \t| 290 $\\pm$ 17         \t| 70 $\\pm$ 13        \t|\n",
    "| 47             \t| 127 $\\pm$ 12         \t| 80 $\\pm$ 11        \t|"
   ]
  },
  {
   "cell_type": "markdown",
   "metadata": {},
   "source": [
    "## Teil 5: Dämpfungskonstanten eines freien gedämpften Schwingkreises"
   ]
  },
  {
   "cell_type": "code",
   "execution_count": 82,
   "metadata": {},
   "outputs": [
    {
     "data": {
      "image/png": "[encoded data removed]",
      "text/plain": [
       "<Figure size 1152x648 with 1 Axes>"
      ]
     },
     "metadata": {
      "needs_background": "light"
     },
     "output_type": "display_data"
    },
    {
     "name": "stdout",
     "output_type": "stream",
     "text": [
      "U_0 = 4.95337117387895  ±  0.0716261314444937  [V]\n",
      "delta = 1.9697507451971719  ±  0.02475301315273899  [kHz]\n",
      "\n",
      "\n",
      "Chi-Quadrat = 0.7256646257433017\n",
      "Freiheitsgrade = 3\n",
      "Chi-Quadrat reduziert = 0.24188820858110058\n",
      "Wahrscheinlichkeit ein größeres oder gleiches Chi-Quadrat zu erhalten = 87 %\n"
     ]
    }
   ],
   "source": [
    "T = 0.25e3\n",
    "t = np.array([1,2,3,4,5])*T\n",
    "fehler_t = np.array([0.01, 0.01, 0.01, 0.01, 0.01])*1e3\n",
    "\n",
    "U_max = np.array([3.00,1.88,1.13,0.69,0.41])\n",
    "fehler_U_max = np.array([0.03, 0.03, 0.03, 0.03, 0.03])\n",
    "\n",
    "#Fitfunktion\n",
    "from scipy import odr\n",
    "\n",
    "def fit_func(p, x):\n",
    "    (A, d) = p\n",
    "    return A*np.exp(-d*x)\n",
    "\n",
    "model = odr.Model(fit_func)\n",
    "\n",
    "#darzustellende Daten\n",
    "x = t\n",
    "y = U_max\n",
    "delta_x = fehler_t\n",
    "delta_y = fehler_U_max\n",
    "\n",
    "#Startparameter\n",
    "para0 = [10.0, 0.0]\n",
    "\n",
    "data = odr.RealData(x, y, sx=delta_x, sy=delta_y)\n",
    "odr = odr.ODR(data, model, beta0=para0 )\n",
    "out = odr.run()\n",
    "\n",
    "#1-Sigma\n",
    "popt = out.beta\n",
    "perr = out.sd_beta\n",
    "\n",
    "#Sigma-Umgebung\n",
    "nstd = 2 # um n-Sigma-Umgebung zu zeichnen\n",
    "popt_top = popt+nstd*perr\n",
    "popt_bot = popt-nstd*perr\n",
    "\n",
    "#Wechselspannung\n",
    "def AC(p, x):\n",
    "    (A, d) = p\n",
    "    return A*np.exp(-d*x)*np.cos((x/T)*2*np.pi)\n",
    "                                 \n",
    "#Plot-Umgebung\n",
    "x_fit = np.linspace(0, 2120, 1000)\n",
    "fit = fit_func(popt, x_fit)\n",
    "fit_AC = AC(popt, x_fit)                          \n",
    "fit_top = AC(popt_top, x_fit)\n",
    "fit_bot = AC(popt_bot, x_fit)\n",
    "\n",
    "#Plot\n",
    "fig, ax = plt.subplots(1)\n",
    "plt.errorbar(x, y, yerr=delta_y, xerr=delta_x, lw=1,ecolor='black', fmt='o', capsize=3, label='Messdaten')\n",
    "plt.title('Diagramm 2: Spannungsverlauf')\n",
    "plt.grid(True)\n",
    "plt.xlabel('Zeit '+r'${t}$'+' '+r'${[μs]}$')\n",
    "plt.ylabel('Spannung '+r'${U}$' + ' '+r'${[V]}$')\n",
    "plt.plot(x_fit, fit, color='red' , ls='--', lw=1, label=r'${{\\propto}e^{-{\\delta}t}}$')\n",
    "plt.plot(x_fit, -fit, color='red', ls='--', lw=1)\n",
    "plt.plot(x_fit, fit_AC, color='black', lw=1, label='Fit')\n",
    "plt.legend(loc='best')\n",
    "plt.show()\n",
    "\n",
    "#Chi-Quadrat orthogonal\n",
    "from scipy.stats import chi2\n",
    "\n",
    "dof = x.size-popt.size\n",
    "chisquare = np.sum(((fit_func(popt, x)-y)**2)/(delta_y**2+((fit_func(popt, x+delta_x)-fit_func(popt, x-delta_x))/2)**2))\n",
    "chisquare_red = chisquare/dof\n",
    "prob = round(1-chi2.cdf(chisquare,dof),2)*100\n",
    "\n",
    "print('U_0 =', popt[0], ' ± ', perr[0], ' [V]')                 \n",
    "print('delta =', popt[1]*1e3, ' ± ', perr[1]*1e3, ' [kHz]')\n",
    "print('\\n')\n",
    "print('Chi-Quadrat =', chisquare)\n",
    "print('Freiheitsgrade =', dof)\n",
    "print('Chi-Quadrat reduziert =', chisquare_red)\n",
    "print('Wahrscheinlichkeit ein größeres oder gleiches Chi-Quadrat zu erhalten = {value:.0f}'.format(value=prob), '%')"
   ]
  },
  {
   "cell_type": "markdown",
   "metadata": {},
   "source": [
    "Daraus folgt für die Dämpfungskonstante $\\delta$:\n",
    "\n",
    "\\begin{align}\n",
    "    \\delta = 1.97 \\pm 0.02 \\ \\text{[kHz]}\n",
    "\\end{align}"
   ]
  },
  {
   "cell_type": "markdown",
   "metadata": {},
   "source": [
    "### Bestimmung der Induktivität der Spule\n",
    "\n",
    "Für einen freien Schwingkreis kann man die Induktivität  $L$ auch, aus der Resonanzfrequenz $\\omega_f$ berechnen:\n",
    "\n",
    "\\begin{align}\n",
    "    \\omega_f &= \\sqrt{\\frac{1}{LC} - \\frac{R^2}{4L^2}}\\\\\n",
    "    \\Rightarrow L_\\pm &= \\frac{1 \\pm \\sqrt{1-(CR\\omega)^2}}{2C\\omega^2}\n",
    "\\end{align}\n",
    "\n",
    "\n",
    "Hierbei liefert nur $L_+$ eine physikalische Lösung, die im folgenden betrachten werden. Für den Fehler von $L_+$ gilt:\n",
    "\n",
    "\\begin{align}\n",
    "    \\Delta L_+ &= \\sqrt{\\left(\\frac{d}{dC} L_+ \\Delta C\\right)^2 + \\left(\\frac{d}{dR} L_+ \\Delta R\\right)^2 + \\left(\\frac{d}{d\\omega} L_+ \\Delta \\omega\\right)^2 }\\\\\n",
    "\\\\\n",
    "    \\frac{d}{dC} L_+ &= - \\ \\frac{R^2}{2\\cdot \\sqrt{1-(CR\\omega)^2}} - \\frac{1+ \\sqrt{1-(CR\\omega)^2}}{2C^2 \\omega^2}\\\\\n",
    "    \\frac{d}{dR} L_+ &= -\\frac{CR^2}{2\\cdot \\sqrt{1-(CR\\omega)^2}}\\\\\n",
    "    \\frac{d}{d\\omega} L_+ &= -\\frac{CR^2}{2\\omega \\cdot \\sqrt{1-(CR\\omega)^2}} - \\frac{1+ \\sqrt{1-(CR\\omega)^2}}{C \\omega^3}\n",
    "\\end{align}\n",
    "\n",
    "\n",
    "\n",
    "Für den Aufbau hatten wir dabei $C$ = (47.0 $\\pm$ 4.7) nF und $R$ = (47.0 $\\pm$ 2.4) $\\Omega$. Für $\\omega$ gilt dabei:\n",
    "\n",
    "\\begin{align*}\n",
    "    \\omega &= 2\\pi f = \\frac{2\\pi}{T}\\\\\n",
    "    \\Delta \\omega &= \\frac{2\\pi}{T^2}\\Delta T\n",
    "\\end{align*}\n",
    "\n",
    "somit erhalten wir:\n",
    "\n",
    "\\begin{align*}\n",
    "    L_1 = (34 \\pm 4) mH\n",
    "\\end{align*}Für einen freien Schwingkreis kann man die Induktivität  $L$ auch, aus der Resonanzfrequenz $\\omega_f$ berechnen:\n",
    "\n",
    "\\begin{align}\n",
    "    \\omega_f &= \\sqrt{\\frac{1}{LC} - \\frac{R^2}{4L^2}}\\\\\n",
    "    \\Rightarrow L_\\pm &= \\frac{1 \\pm \\sqrt{1-(CR\\omega)^2}}{2C\\omega^2}\n",
    "\\end{align}\n",
    "\n",
    "\n",
    "Hierbei liefert nur $L_+$ eine physikalische Lösung, die im folgenden betrachten werden. Für den Fehler von $L_+$ gilt:\n",
    "\n",
    "\\begin{align}\n",
    "    \\Delta L_+ &= \\sqrt{\\left(\\frac{d}{dC} L_+ \\Delta C\\right)^2 + \\left(\\frac{d}{dR} L_+ \\Delta R\\right)^2 + \\left(\\frac{d}{d\\omega} L_+ \\Delta \\omega\\right)^2 }\\\\\n",
    "\\\\\n",
    "    \\frac{d}{dC} L_+ &= - \\ \\frac{R^2}{2\\cdot \\sqrt{1-(CR\\omega)^2}} - \\frac{1+ \\sqrt{1-(CR\\omega)^2}}{2C^2 \\omega^2}\\\\\n",
    "    \\frac{d}{dR} L_+ &= -\\frac{CR^2}{2\\cdot \\sqrt{1-(CR\\omega)^2}}\\\\\n",
    "    \\frac{d}{d\\omega} L_+ &= -\\frac{CR^2}{2\\omega \\cdot \\sqrt{1-(CR\\omega)^2}} - \\frac{1+ \\sqrt{1-(CR\\omega)^2}}{C \\omega^3}\n",
    "\\end{align}\n",
    "\n",
    "\n",
    "Für den Aufbau hatten wir dabei $C$ = (47.0 $\\pm$ 4.7) nF und $R$ = (47.0 $\\pm$ 2.4) $\\Omega$. Für $\\omega$ gilt dabei:\n",
    "\n",
    "\\begin{align}\n",
    "    \\omega &= 2\\pi f = \\frac{2\\pi}{T}\\\\\n",
    "    \\Delta \\omega &= \\frac{2\\pi}{T^2}\\Delta T\n",
    "\\end{align}"
   ]
  },
  {
   "cell_type": "code",
   "execution_count": 60,
   "metadata": {
    "collapsed": false,
    "jupyter": {
     "outputs_hidden": false
    }
   },
   "outputs": [
    {
     "name": "stdout",
     "output_type": "stream",
     "text": [
      "Aus der in Aufgabenteil 4 ermittelten Resonanzfrequenz folgt:\n",
      "L1 = 0.03368390413641549 ± 0.0037659749698305696 H\n"
     ]
    }
   ],
   "source": [
    "#Resonanzfrequenz aus Aufgabe 4\n",
    "L1_2=1/(omega_res[2]**2*C3)\n",
    "L1_2_err=L1_2*np.sqrt((2*omega_res_err[2]/omega_res[2])**2+(C3_err/C3)**2)\n",
    "\n",
    "print('Aus der in Aufgabenteil 4 ermittelten Resonanzfrequenz folgt:')\n",
    "print('L1 = ' + str(L1_2) + ' ± ' + str(L1_2_err) + ' H')"
   ]
  },
  {
   "cell_type": "markdown",
   "metadata": {},
   "source": [
    "\\begin{align*}\n",
    "    L_1 = 34 \\pm 4 \\ \\text{[mH]}\n",
    "\\end{align*}"
   ]
  },
  {
   "cell_type": "markdown",
   "metadata": {},
   "source": [
    "### Logarithmisches Dekrement"
   ]
  },
  {
   "cell_type": "markdown",
   "metadata": {},
   "source": [
    "Aus der Abnahme der Schwingungsamplituden kann man zudem das logarithmische Dektrement $\\Lambda$ und daraus den Gesamtwiderstand $R +R_V$ berechnen. Das logarithmische Dektrement $\\Lambda$ ist definiert als \n",
    "\n",
    "\\begin{align}\n",
    "    \\Lambda &= \\ln{\\frac{A_n}{A_{n+1}}}\\\\\n",
    "    \\Delta \\Lambda &= \\sqrt{\\left(\\frac{\\Delta A_n}{A_n}\\right)^2 + \n",
    "                            \\left(\\frac{\\Delta A_{n+1}}{A_{n+1}}\\right)^2}\n",
    "\\end{align}"
   ]
  },
  {
   "cell_type": "code",
   "execution_count": 16,
   "metadata": {
    "collapsed": false,
    "jupyter": {
     "outputs_hidden": false
    }
   },
   "outputs": [
    {
     "name": "stdout",
     "output_type": "stream",
     "text": [
      "Lambda_1,2 = 0.467 ± 0.019\n",
      "Lambda_2,3 = 0.509 ± 0.031\n",
      "Lambda_3,4 = 0.493 ± 0.051\n",
      "Lambda_4,5 = 0.521 ± 0.085\n",
      "\n",
      "\n",
      "Das logarithmische Dekrement berechnet sich zu:\n",
      "Lambda = 0.49755260198797335 ± 0.04517685550437725\n"
     ]
    }
   ],
   "source": [
    "A=np.array([3.00,1.88,1.13,0.69,0.41]) #Volt\n",
    "A_err=0.03*np.ones(5)\n",
    "\n",
    "Lambda=[]\n",
    "Lambda_err=[]\n",
    "for i in range(4):\n",
    "    a = np.log(A[i]/A[i+1])\n",
    "    b = np.sqrt((A_err[0]/A[i])**2+(A_err[0]/A[i+1])**2)\n",
    "    Lambda.append(a)\n",
    "    Lambda_err.append(b)\n",
    "    print('Lambda_%d,%d = '%(i+1,i+2) + str(round(a,3)) \n",
    "          + ' ± ' + str(round(b,3)))\n",
    "\n",
    "Lambda_err=np.array(Lambda_err)\n",
    "Lambda_mean=np.mean(Lambda)\n",
    "Lambda_mean_err=1/3*np.sum(Lambda_err**2)**0.5\n",
    "Lambda_mean_std=np.std(Lambda)/np.sqrt(len(Lambda))\n",
    "print('\\n')\n",
    "print('Das logarithmische Dekrement berechnet sich zu:')\n",
    "print('Lambda = ' + str(Lambda_mean) + ' ± ' + str(Lambda_mean_err+Lambda_mean_std))"
   ]
  },
  {
   "cell_type": "markdown",
   "metadata": {},
   "source": [
    "Mit den fünf Messwerten erhält man die folgenden Dekremente $\\Lambda$:\n",
    "\n",
    "\\begin{align*}\n",
    "    \\Lambda_{12} &= 0.467 \\pm 0.019\\\\\n",
    "    \\Lambda_{23} &= 0.509 \\pm 0.031\\\\\n",
    "    \\Lambda_{34} &= 0.493 \\pm 0.051\\\\\n",
    "    \\Lambda_{45} &= 0.521 \\pm 0.085\\\\\n",
    "    \\\\\n",
    "    \\Rightarrow \\Lambda &= 0.498 \\pm 0.045\n",
    "\\end{align*}"
   ]
  },
  {
   "cell_type": "markdown",
   "metadata": {},
   "source": [
    "### Gesamtwiderstand"
   ]
  },
  {
   "cell_type": "markdown",
   "metadata": {},
   "source": [
    "Für  den Gesamtwiderstand $R_{ges}$ wissen wir: \n",
    "\n",
    "\\begin{align}\n",
    "    R_{ges} &= R + R_V = \\frac{\\Lambda \\cdot 2L}{T}\\\\\n",
    "    \\Delta R_{ges} &= \\sqrt{\\left(\\frac{2L}{T} \\Delta \\Lambda \\right)^2 +\n",
    "                            \\left(\\frac{2\\Lambda}{T} \\Delta L \\right)^2 +\n",
    "                            \\left(\\frac{\\Lambda \\cdot 2L}{T^2} \\Delta T\\right)^2}\n",
    "\\end{align}"
   ]
  },
  {
   "cell_type": "code",
   "execution_count": 49,
   "metadata": {
    "collapsed": false,
    "jupyter": {
     "outputs_hidden": false
    }
   },
   "outputs": [
    {
     "name": "stdout",
     "output_type": "stream",
     "text": [
      "Der damit ermittelte Gesamtwiderstand berechnet sich zu:\n",
      "R_ges = 134.076 ± 21.22\n"
     ]
    }
   ],
   "source": [
    "T=0.25e-3\n",
    "T_err=0.01e-3\n",
    "R_ges3=2*L1_2*Lambda_mean/T\n",
    "R_ges3_err=R_ges3*np.sqrt((L1_2_err/L1_2)**2+(Lambda_mean_err/Lambda_mean)**2+(T_err/T)**2)\n",
    "R_ges3_std=R_ges3*np.sqrt((Lambda_mean_std/Lambda_mean)**2)\n",
    "\n",
    "print('Der damit ermittelte Gesamtwiderstand berechnet sich zu:')\n",
    "print('R_ges = ' + str(round(R_ges3,3)) + ' ± ' + str(round(R_ges3_err+R_ges3_std,3)))"
   ]
  },
  {
   "cell_type": "markdown",
   "metadata": {},
   "source": [
    "\\begin{align*}\n",
    "    R_{ges} = 134.076 \\pm 21.220 \\ \\Omega\n",
    "\\end{align*}"
   ]
  },
  {
   "cell_type": "markdown",
   "metadata": {},
   "source": [
    "### Vergleich mit den Ergebnissen aus Aufgabe 4"
   ]
  },
  {
   "cell_type": "code",
   "execution_count": 50,
   "metadata": {
    "collapsed": false,
    "jupyter": {
     "outputs_hidden": false
    }
   },
   "outputs": [
    {
     "name": "stdout",
     "output_type": "stream",
     "text": [
      "Für die Differenz zu den beiden Werten aus Aufgabe 4 folgt somit:\n",
      "∆(R_ges1) = 15.890229449064748 ± 29.49378004182303 \n",
      "=> Sigma= 0.5387654422909489\n",
      "∆(R_ges2) = 7.0490861584688815 ± 21.852350470382454 \n",
      "=> Sigma= 0.322577938150079\n"
     ]
    }
   ],
   "source": [
    "diff_R_ges1=np.abs(R_ges[2]-R_ges3)\n",
    "diff_R_ges1_err=np.sqrt((R_ges_err[2])**2+(R_ges3_err)**2)\n",
    "\n",
    "diff_R_ges2=np.abs(R_ges2[2]-R_ges3)\n",
    "diff_R_ges2_err=np.sqrt((R_ges2_err[2])**2+(R_ges3_err)**2)\n",
    "\n",
    "#Den Vergleich bezüglich des statistischen Fehlers halte ich nicht für sinnvoll, da der stat. Fehler so gering ist.\n",
    "\n",
    "print('Für die Differenz zu den beiden Werten aus Aufgabe 4 folgt somit:')\n",
    "print('∆(R_ges1) = '+str(diff_R_ges1)+' ± '+str(diff_R_ges1_err)+\n",
    "      ' \\n=> Sigma= '+str(diff_R_ges1/diff_R_ges1_err))\n",
    "print('∆(R_ges2) = '+str(diff_R_ges2)+' ± '+str(diff_R_ges2_err)+\n",
    "      ' \\n=> Sigma= '+str(diff_R_ges2/diff_R_ges2_err))"
   ]
  },
  {
   "cell_type": "markdown",
   "metadata": {},
   "source": [
    "\\begin{align}\n",
    "    R_{ges}^{\\Lambda} &= 134 \\pm 21 \\ \\Omega \\\\\n",
    "    R_{ges}^{\\Delta \\omega} &= 149 \\pm 5 \\ \\Omega \\\\\n",
    "    &\\Rightarrow 0.54 \\sigma\\\\\n",
    "    R_{ges}^{U_A} &= 127 \\pm 12 \\ \\Omega\\\\\n",
    "    &\\Rightarrow 0.32 \\sigma\n",
    "\\end{align}"
   ]
  },
  {
   "cell_type": "markdown",
   "metadata": {},
   "source": [
    "## Teil 6: Resonanzüberhöhung\n",
    "\n",
    "Aus den Kenngrößen $C$, $R$ und $L$ lässt sich die Resonanzfrequenz $\\omega_R = 2\\pi f_R$ des Schwingkreises bestimmen.\n",
    "\n",
    "\\begin{align}\n",
    "    f_R &= \\frac{\\omega_R}{2\\pi} = \\frac{1}{2\\pi} \\sqrt{\\frac{L}{C}}\\\\\n",
    "    \\Delta f_R &= \\frac{1}{2\\pi} \\sqrt{\\left(\\frac{1}{2} \\frac{1}{\\sqrt{CL^3}} \\Delta L \\right)^2 + \\left(\\frac{1}{2} \\frac{1}{\\sqrt{C^3L}} \\Delta C \\right)^2}\n",
    "\\end{align}\n",
    "\n",
    "Außerdem gilt für die Resonanzfrequenz von Kondensator $f_C$ und Spule $f_L$:\n",
    "\n",
    "\\begin{align}\n",
    "    f_C &= \\frac{1}{2\\pi} \\sqrt{(\\omega_R)^2 - (2\\delta)^2}\\\\\n",
    "    f_L &= \\frac{1}{2\\pi} \\sqrt{(\\omega_R)^2 + (2\\delta)^2}\n",
    "\\end{align}\n",
    "\n",
    "setzt man \\ref{eq:w0} ein so folgt:\n",
    "\n",
    "\\begin{align}\n",
    "f_{c} &=\\frac{1}{2 \\pi} \\sqrt{\\frac{1}{L C}-\\frac{1}{2} \\frac{R^{2}}{L^{2}}}\\\\\n",
    "\\Delta f_{C} &=\\frac{1}{2 \\pi} \\sqrt{\\left(\\frac{\\left(\\frac{R^{2}}{L^{3}}-\\frac{1}{C L^{2}}\\right) \\Delta L}{2 \\sqrt{\\frac{1}{LC}-\\frac{1}{2} \\frac{R^{2}}{L^{2}}}}\\right)^{2}+\\left(\\frac{\\Delta C}{2 C^{2} L \\sqrt{\\frac{1}{CL}-\\frac{R^{2}}{2L^{2}}}}\\right)^{2}+\\left(\\frac{R \\cdot \\Delta R}{2 L^{2} \\sqrt{\\frac{1}{C L}-\\frac{C^{2}}{2 L^{2}}}}\\right)^2}\\\\\n",
    "f_{L} &=\\frac{1}{2 \\pi} \\sqrt{\\frac{1}{L C}+\\frac{R^{2}}{2 L^{2}}}\\\\\n",
    "\\Delta f_{L} &=\\frac{1}{2 \\pi} \\sqrt{\\left(\\frac{\\left(\\frac{R^{2}}{L^{2}}-\\frac{1}{C^{2}}\\right) \\Delta L}{2 \\sqrt{\\frac{1}{LC}+\\frac{1}{2} \\frac{R^{2}}{L^{2}}}}\\right)^{2}+\\left(\\frac{\\Delta C}{2 C^{2} L \\sqrt{\\frac{1}{CL}+\\frac{R^{2}}{2L^{2}}}}\\right)^{2}+\\left(\\frac{R \\cdot \\Delta R}{2 L^{2} \\sqrt{\\frac{1}{C L}-\\frac{l^{2}}{2 L^{2}}}}\\right)^2}\n",
    "\\end{align}"
   ]
  },
  {
   "cell_type": "markdown",
   "metadata": {},
   "source": [
    "### Resonanzfrequenzen am Serienschwingkreis\n",
    "\n",
    "Mit den gegebenen Kenngrößen unseres Aufbaus: \n",
    "\n",
    "\\begin{align*}\n",
    "    C &= 47.0 \\pm 4.7 \\ \\text{[nF]}\\\\\n",
    "    R &= 290 \\pm 17 \\ \\text{[$\\Omega]$]} \\ \\text{(aus Teil 4)}\\\\\n",
    "    L &= 34 \\pm 4 \\ \\text{[mH]} \\ \\text{(aus Teil 5)}\\\\\n",
    "\\end{align*}"
   ]
  },
  {
   "cell_type": "code",
   "execution_count": 83,
   "metadata": {
    "collapsed": false,
    "jupyter": {
     "outputs_hidden": false
    }
   },
   "outputs": [
    {
     "name": "stdout",
     "output_type": "stream",
     "text": [
      "Die theoretische Resonanzfrequenz omega_R ergibt sich aus dem Aufbau zu: \n",
      "f_res_R_theo = 3886.666666666667 ± 327.335410388085 s^-1\n",
      "\n",
      "Die theoretische Resonanzfrequenz omega_C ergibt sich aus dem Aufbau zu: \n",
      "f_res_C_theo = 3777.2563161344747 ± 338.83583302861956 s^-1\n",
      "\n",
      "Die theoretische Resonanzfrequenz omega_L ergibt sich aus dem Aufbau zu: \n",
      "omega_res_L_theo = 3993.0802994402434 ± 320.52192654864814 s^-1\n"
     ]
    }
   ],
   "source": [
    "#Theoretischer Wert\n",
    "omega_res_R_theo=1/np.sqrt(L1*C3)\n",
    "omega_res_R_theo_err=omega_res_R_theo*np.sqrt((0.5*C3_err/C3)**2+(0.5*L1_err/L1)**2)\n",
    "omega_res_R_theo_std=omega_res_R_theo*np.sqrt((0.5*L1_std/L1)**2)\n",
    "\n",
    "print('Die theoretische Resonanzfrequenz omega_R ergibt sich aus dem Aufbau zu: ')\n",
    "print('f_res_R_theo = ' + str(omega_res_R_theo/(2*np.pi)) + ' ± ' + str(omega_res_R_theo_err/(2*np.pi) + omega_res_R_theo_std/(2*np.pi)) + ' s^-1')\n",
    "print()\n",
    "omega_res_C_theo=np.sqrt(omega_res_R_theo**2-0.5*(R_ges[1]/L1)**2)\n",
    "omega_res_C_theo_err=0.5/omega_res_C_theo*np.sqrt((2*omega_res_R_theo*omega_res_R_theo_err)**2+\n",
    "                                                  (R_ges[1]*R_ges_err[1]/L1**2)**2+(R_ges[1]**2*L1_err/L1**3)**2)\n",
    "omega_res_C_theo_std=0.5/omega_res_C_theo*np.sqrt((2*omega_res_R_theo*omega_res_R_theo_std)**2+\n",
    "                                                  (R_ges[1]**2*L1_std/L1**3)**2)\n",
    "\n",
    "print('Die theoretische Resonanzfrequenz omega_C ergibt sich aus dem Aufbau zu: ')\n",
    "print('f_res_C_theo = ' + str(omega_res_C_theo/(2*np.pi)) + ' ± ' + str(omega_res_C_theo_err/(2*np.pi) + omega_res_C_theo_std/(2*np.pi)) + ' s^-1')\n",
    "print()\n",
    "\n",
    "omega_res_L_theo=np.sqrt(omega_res_R_theo**2+0.5*(R_ges[1]/L1)**2)\n",
    "omega_res_L_theo_err=0.5/omega_res_L_theo*np.sqrt((2*omega_res_R_theo*omega_res_R_theo_err)**2+\n",
    "                                                  (R_ges[1]*R_ges_err[1]/L1**2)**2+(R_ges[1]**2*L1_err/L1**3)**2)\n",
    "omega_res_L_theo_std=0.5/omega_res_L_theo*np.sqrt((2*omega_res_R_theo*omega_res_R_theo_std)**2+\n",
    "                                                  (R_ges[1]**2*L1_std/L1**3)**2)\n",
    "\n",
    "print('Die theoretische Resonanzfrequenz omega_L ergibt sich aus dem Aufbau zu: ')\n",
    "print('omega_res_L_theo = ' + str(omega_res_L_theo/(2*np.pi)) + ' ± ' + str(omega_res_L_theo_err/(2*np.pi) + omega_res_L_theo_std/(2*np.pi)) + ' s^-1')"
   ]
  },
  {
   "cell_type": "code",
   "execution_count": 84,
   "metadata": {},
   "outputs": [],
   "source": [
    "#Resonanzfrequenz aus Abgriff an Widerstand, Kondensator und Spule\n",
    "omega_res_R=2*np.pi*4.06e3\n",
    "omega_res_C=2*np.pi*3.93e3\n",
    "omega_res_L=2*np.pi*4.19e3\n",
    "\n",
    "omega_res2_err=2*np.pi*0.05e3"
   ]
  },
  {
   "cell_type": "markdown",
   "metadata": {},
   "source": [
    "### Vergleich der Werte"
   ]
  },
  {
   "cell_type": "code",
   "execution_count": 87,
   "metadata": {
    "collapsed": false,
    "jupyter": {
     "outputs_hidden": false
    }
   },
   "outputs": [
    {
     "name": "stdout",
     "output_type": "stream",
     "text": [
      "Der Vergleich aus Messwert und Theorie liefert:\n",
      "\n",
      "∆omega_R = 1089.085453244461 ± 1792.2418204423836 ± 292.2162813989154\n",
      "=> Sigma = 0.607666577591432\n",
      "\n",
      "∆omega_C = 959.7168702283525 ± 1853.2623824197237 ± 302.52768690933766\n",
      "=> Sigma = 0.5178526685332554\n",
      "\n",
      "∆omega_L = 1237.2829692512678 ± 1756.052641790869 ± 286.17621747903183\n",
      "=> Sigma = 0.7045819355332388\n"
     ]
    }
   ],
   "source": [
    "diff_omega_R=np.abs(omega_res_R_theo-omega_res_R)\n",
    "diff_omega_C=np.abs(omega_res_C_theo-omega_res_C)\n",
    "diff_omega_L=np.abs(omega_res_L_theo-omega_res_L)\n",
    "\n",
    "diff_omega_R_err=np.sqrt(omega_res_R_theo_err**2+omega_res2_err**2)\n",
    "diff_omega_C_err=np.sqrt(omega_res_C_theo_err**2+omega_res2_err**2)\n",
    "diff_omega_L_err=np.sqrt(omega_res_L_theo_err**2+omega_res2_err**2)\n",
    "\n",
    "print('Der Vergleich aus Messwert und Theorie liefert:')\n",
    "print()\n",
    "print('∆omega_R = ' + str(diff_omega_R) + ' ± ' + str(diff_omega_R_err) + ' ± ' + str(diff_omega_R_std) +\n",
    "      '\\n=> Sigma = '+str(diff_omega_R/diff_omega_R_err))\n",
    "print()\n",
    "print('∆omega_C = ' + str(diff_omega_C) + ' ± ' + str(diff_omega_C_err) + ' ± ' + str(diff_omega_C_std) +\n",
    "      '\\n=> Sigma = '+str(diff_omega_C/diff_omega_C_err))\n",
    "print()\n",
    "print('∆omega_L = ' + str(diff_omega_L) + ' ± ' + str(diff_omega_L_err) + ' ± ' + str(diff_omega_L_std) +\n",
    "      '\\n=> Sigma = '+str(diff_omega_L/diff_omega_L_err))"
   ]
  },
  {
   "cell_type": "markdown",
   "metadata": {},
   "source": [
    "| Kenngröße                         \t| $f_R^{theo}$ [kHz] \t| $f_R^{mes}$ [kHz] \t| $\\sigma$-Abweich \t|\n",
    "|-----------------------------------\t|--------------------\t|-------------------\t|------------------\t|\n",
    "| $R_{ges}$ = 290 $\\pm$ 17 $\\Omega$ \t| 3.89 $\\pm$ 0.33    \t| 4.06 $\\pm$ 0.05   \t| 0.61             \t|\n",
    "| $C$ = 47.0 $\\pm$ 4.7 [nF]         \t| 3.78 $\\pm$ 0.34    \t| 3.93 $\\pm$ 0.05   \t| 0.52             \t|\n",
    "| $L_1$ = 34 $\\pm$ 4 [mH]           \t| 3.99 $\\pm$ 0.32    \t| 4.19 $\\pm$ 0.05   \t| 0.70             \t|"
   ]
  },
  {
   "cell_type": "markdown",
   "metadata": {},
   "source": [
    "## Teil 7: Bandpassfilter"
   ]
  },
  {
   "cell_type": "code",
   "execution_count": 107,
   "metadata": {},
   "outputs": [
    {
     "name": "stdout",
     "output_type": "stream",
     "text": [
      "3820.0 100.0\n"
     ]
    }
   ],
   "source": [
    "omega_res_bs_theo=omega_res[0]\n",
    "omega_res_bs_theo_err=omega_res_err[0]\n",
    "#omega_res_bs_theo=omega_res_R_theo\n",
    "#omega_res_bs_theo_err=omega_res_R_theo_err\n",
    "\n",
    "\n",
    "#Messwert\n",
    "omega_res_bs=2*np.pi*4.11e3\n",
    "omega_res_bs_err=0.04e3\n",
    "\n",
    "print(omega_res_bs_theo/(2*np.pi), omega_res_bs_theo_err/(2*np.pi))"
   ]
  },
  {
   "cell_type": "markdown",
   "metadata": {},
   "source": [
    "### Vergleich der Werte"
   ]
  },
  {
   "cell_type": "code",
   "execution_count": 105,
   "metadata": {
    "collapsed": false,
    "jupyter": {
     "outputs_hidden": false
    }
   },
   "outputs": [
    {
     "name": "stdout",
     "output_type": "stream",
     "text": [
      "Der Vergleich aus Messwert und Theorie liefert:\n",
      "∆omega_bs = 1822.1237390820788 ± 629.5904828089242 s^-1 \n",
      "=> Sigma= 2.8941411740416654\n"
     ]
    }
   ],
   "source": [
    "diff_omega_bs=np.abs(omega_res_bs_theo-omega_res_bs)\n",
    "diff_omega_bs_err=np.sqrt(omega_res_bs_err**2+omega_res_bs_theo_err**2)\n",
    "\n",
    "print('Der Vergleich aus Messwert und Theorie liefert:')\n",
    "print('∆omega_bs = ' + str(diff_omega_bs) + ' ± ' + str(diff_omega_bs_err) + ' s^-1'+\n",
    "      ' \\n=> Sigma= '+str(diff_omega_bs/diff_omega_bs_err))"
   ]
  },
  {
   "cell_type": "markdown",
   "metadata": {},
   "source": [
    "Bandpassfilter:\n",
    "\n",
    "\\begin{align}\n",
    "   f_R^{Bandpass} &= f_R^{Serienschwingkreis} \\ \\text{(theoretisch)}\\\\\n",
    "   \\Rightarrow f_R^{theo} &= 3.82 \\pm 0.10 \\ \\text{[kHz]}\\\\\n",
    "   f_R^{mes} &= 4.11 \\pm 0.04 \\ \\text{[kHz]}\\\\\n",
    "   & \\Rightarrow 2.89 \\sigma\n",
    "\\end{align}"
   ]
  },
  {
   "cell_type": "markdown",
   "metadata": {},
   "source": [
    "## Teil 8: Signalformung"
   ]
  },
  {
   "cell_type": "markdown",
   "metadata": {},
   "source": [
    "Aus den generierten Ausdrucken wird die Schaltung mit der besten Filterung des 4 kHz-Signals ausgewählt.\n",
    "\n",
    "$\\rightarrow$ Am besten ist die Filterung für den Bandpassfilter mit $R=47 \\ \\Omega$."
   ]
  },
  {
   "cell_type": "markdown",
   "metadata": {},
   "source": [
    "### Vergleich der Dämpfung des $4 \\ kHz$ - Signals"
   ]
  },
  {
   "cell_type": "code",
   "execution_count": 108,
   "metadata": {
    "collapsed": false,
    "jupyter": {
     "outputs_hidden": false
    }
   },
   "outputs": [
    {
     "name": "stdout",
     "output_type": "stream",
     "text": [
      "Verhältnisse zum reinen Signal:\n",
      "[0.03917419 0.72027775 0.90157114]\n",
      "[0.99540542 4.86967525 0.30549211]\n",
      "[1.03038612 0.8365656  0.25409727]\n",
      "[1.03038612 4.86967525 0.33884416]\n",
      "\n",
      "\"Normierte\" Verhältnisse zum reinen Signal:\n",
      "[0.05438761 1.         1.25169927]\n",
      "[0.20440899 1.         0.06273357]\n",
      "[1.23168599 1.         0.30373861]\n",
      "[0.21159237 1.         0.0695825 ]\n"
     ]
    }
   ],
   "source": [
    "#Umrechnung von dBV in absolute Größen gemäß Formel 68 des Skripts:\n",
    "#U[V]=1V_rms*10**(L_U[dBV]/20)\n",
    "\n",
    "#Effektivwerte der Spannungen der drei Frequenzen für die fünf Schaltungen (s1: reines Signal, s2: Hochpassfilter,\n",
    "#s3: Tiefpassfilter (LC), s4: Bandpassfilter (R=1e3 Ohm), s5: Bandpassfilter (R=47 Ohm))\n",
    "#f1=100.71 Hz, f2=3.6e3 Hz, f3=8e3 Hz\n",
    "\n",
    "s1=10**(1/20*np.array([-3.06,-7.75,-11.5]))\n",
    "s2=10**(1/20*np.array([-31.2,-10.6,-12.4]))\n",
    "s3=10**(1/20*np.array([-3.1,6.0,-21.8]))\n",
    "s4=10**(1/20*np.array([-2.8,-9.3,-23.4]))\n",
    "s5=10**(1/20*np.array([-2.8,6.0,-20.9]))\n",
    "\n",
    "#Die Verhältnisse zum reinen Signal\n",
    "v1=s2/s1\n",
    "v2=s3/s1\n",
    "v3=s4/s1\n",
    "v4=s5/s1\n",
    "\n",
    "print(\"Verhältnisse zum reinen Signal:\")\n",
    "print(v1)\n",
    "print(v2)\n",
    "print(v3)\n",
    "print(v4)\n",
    "print()\n",
    "\n",
    "#Zum Vergleich der Schaltungen werden alle Verhältnisse so \"normiert\", dass das 4kHz-Signal ungedämpft erscheint\n",
    "v1_n=v1/v1[1]\n",
    "v2_n=v2/v2[1]\n",
    "v3_n=v3/v3[1]\n",
    "v4_n=v4/v4[1]\n",
    "\n",
    "print('\"Normierte\" Verhältnisse zum reinen Signal:')\n",
    "print(v1_n)\n",
    "print(v2_n)\n",
    "print(v3_n)\n",
    "print(v4_n)"
   ]
  },
  {
   "cell_type": "markdown",
   "metadata": {},
   "source": [
    "### Vergleich des $100 \\ Hz$-Signals beim Hochpass mit Aufgabenteil 3"
   ]
  },
  {
   "cell_type": "code",
   "execution_count": 109,
   "metadata": {
    "collapsed": false,
    "jupyter": {
     "outputs_hidden": false
    }
   },
   "outputs": [
    {
     "name": "stdout",
     "output_type": "stream",
     "text": [
      "Durch den Hochpass wird das 100Hz-Signal auf 3.92% gedämpft.\n",
      "In Aufgabe 3 ergab sich eine Dämpfung von ca. 3.76%.\n",
      "\n",
      "Mit einem Ablesefehler aus dem Diagramm von 1dB folgt:\n",
      "Das 1 Sigma Intervall geht von 3.35% bis 4.22%.\n",
      "Folglich stimmen die Werte im 1 Sigma Intervall überein, da 3.92% Element des Intervalls ist.\n"
     ]
    }
   ],
   "source": [
    "print(\"Durch den Hochpass wird das 100Hz-Signal auf \"+str(round(100*v1[0],2))+\"% gedämpft.\")\n",
    "\n",
    "#Die in Aufgabe 3 gemessene Dämpfung wird aus Diagramm 6 abgelesen (-28.5dB)\n",
    "v_auf3=10**(-28.5/20)\n",
    "print(\"In Aufgabe 3 ergab sich eine Dämpfung von ca. \"+str(round(100*v_auf3,2))+\"%.\")\n",
    "print()\n",
    "\n",
    "#Vergleich der beiden Werte\n",
    "#In Aufgabe 8 war keine Fehlerabschätzung notwendig, die Ablesung aus Diagramm 6 \n",
    "#hat einen geschätzten Fehler von 1dB.\n",
    "print(\"Mit einem Ablesefehler aus dem Diagramm von 1dB folgt:\")\n",
    "#Damit ergibt sich als 1 Sigma Intervall:\n",
    "v_auf3_1=10**(-29.5/20)\n",
    "v_auf3_2=10**(-27.5/20)\n",
    "print(\"Das 1 Sigma Intervall geht von \"+str(round(100*v_auf3_1,2))+\"% bis \"+str(round(100*v_auf3_2,2))+\"%.\")\n",
    "print(\"Folglich stimmen die Werte im 1 Sigma Intervall überein, da \"+str(round(100*v1[0],2))+\n",
    "      \"% Element des Intervalls ist.\")"
   ]
  },
  {
   "cell_type": "markdown",
   "metadata": {},
   "source": [
    "## Teil 9: Aufbau eines AM-Empfängers"
   ]
  },
  {
   "cell_type": "markdown",
   "metadata": {},
   "source": [
    "Dieser Aufgabenteil wird in schriftlicher Form im Messprotokoll kommentiert."
   ]
  }
 ],
 "metadata": {
  "kernelspec": {
   "display_name": "Python 3",
   "language": "python",
   "name": "python3"
  },
  "language_info": {
   "codemirror_mode": {
    "name": "ipython",
    "version": 3
   },
   "file_extension": ".py",
   "mimetype": "text/x-python",
   "name": "python",
   "nbconvert_exporter": "python",
   "pygments_lexer": "ipython3",
   "version": "3.7.3"
  }
 },
 "nbformat": 4,
 "nbformat_minor": 4
}
